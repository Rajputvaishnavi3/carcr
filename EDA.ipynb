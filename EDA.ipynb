{
 "cells": [
  {
   "cell_type": "markdown",
   "id": "caa4b37b",
   "metadata": {},
   "source": [
    "# Car-Price-Prediction"
   ]
  },
  {
   "cell_type": "markdown",
   "id": "58bf07ea",
   "metadata": {},
   "source": [
    "## Project Member -\n",
    "### Name - Vaishnavi Rajput\n",
    "### RollNo - 2012113"
   ]
  },
  {
   "cell_type": "markdown",
   "id": "ba1f1507",
   "metadata": {},
   "source": [
    "### TASK AND DESCRIPTION: \n",
    "\n",
    "Description:\n",
    "\n",
    "Every passing day we can see that the car market is increasing rapidly, and that brings us to a door where many people are buying and selling the cars in the market, so to make this process more fluid and with a better market view, I am proposing a model which will take particular information related to the car and will predict the selling price. This will help to get a better view while buying and selling cars.\n",
    "\n",
    "Task:\n",
    "\n",
    "We are expecting a notebook having in-depth Exploratory Data Analysis that can help us visualize data.And use machine learning for prediction of selling price."
   ]
  },
  {
   "attachments": {},
   "cell_type": "markdown",
   "id": "ddf315ee",
   "metadata": {},
   "source": [
    "## DATASET USED\n",
    "\n",
    "\n",
    "This dataset contains information about used cars listed on www.cardekho.com .This data can be used for a lot of purposes such as price prediction using Machine Learning. \n",
    "\n",
    "https://www.kaggle.com/nehalbirla/vehicle-dataset-from-cardekho"
   ]
  },
  {
   "cell_type": "markdown",
   "id": "fa6d9e5b",
   "metadata": {},
   "source": [
    "### LIBRARIES USED"
   ]
  },
  {
   "cell_type": "markdown",
   "id": "983448c4",
   "metadata": {},
   "source": [
    "#### NUMPY\n",
    "\n",
    "NumPy, which stands for Numerical Python, is a library consisting of multidimensional array objects and a collection of routines for processing those arrays. \n",
    "Using NumPy, mathematical and logical operations on arrays can be performed.\n",
    "\n",
    "Operations using NumPy:\n",
    "Using NumPy, a developer can perform the following operations −\n",
    "\n",
    "Mathematical and logical operations on arrays.\n",
    "\n",
    "Fourier transforms and routines for shape manipulation.\n",
    "\n",
    "Operations related to linear algebra. NumPy has in-built functions for linear algebra and random number generation\n",
    "\n",
    "\n",
    "#### PANDAS\n",
    "\n",
    "pandas is a Python package providing fast, flexible, and expressive data structures designed to make working with “relational” or “labeled” data both easy and intuitive. \n",
    "It aims to be the fundamental high-level building block for doing practical, real-world data analysis in Python. \n",
    "Additionally, it has the broader goal of becoming the most powerful and flexible open source data analysis/manipulation tool available in any language. \n",
    "It is already well on its way toward this goal.\n",
    "\n",
    "FEATURES: \n",
    "\n",
    "Fast and efficient DataFrame object with default and customized indexing.\n",
    "Tools for loading data into in-memory data objects from different file formats.\n",
    "Data alignment and integrated handling of missing data.\n",
    "Reshaping and pivoting of date sets.\n",
    "Label-based slicing, indexing and subsetting of large data sets.\n",
    "Columns from a data structure can be deleted or inserted.\n",
    "Group by data for aggregation and transformations.\n",
    "High performance merging and joining of data.\n",
    "Time Series functionality.\n",
    "\n",
    "#### MATPLOTLIB\n",
    "\n",
    "Matplotlib is one of the most popular Python packages used for data visualization. \n",
    "It is a cross-platform library for making 2D plots from data in arrays. \n",
    "Matplotlib is written in Python and makes use of NumPy, the numerical mathematics extension of Python. \n",
    "\n",
    "%matplotlib inline turns on “inline plotting”, where plot graphics will appear in your notebook. This has important implications for interactivity: for inline plotting, commands in cells below the cell that outputs a plot will not affect the plot.\n",
    "\n",
    "#### PLOTLY\n",
    "\n",
    "The Plotly Python library is an interactive open-source library. \n",
    "This can be a very helpful tool for data visualization and understanding the data simply and easily. \n",
    "plotly graph objects are a high-level interface to plotly which are easy to use. \n",
    "It can plot various types of graphs and charts like scatter plots, line charts, bar charts, box plots, histograms, pie charts, etc. \n",
    "\n",
    "Plotly has hover tool capabilities that allow us to detect any outliers or anomalies in a large number of data points.\n",
    "It is visually attractive that can be accepted by a wide range of audiences.\n",
    "It allows us for the endless customization of our graphs that makes our plot more meaningful and understandable for others.\n",
    "\n",
    "\n",
    "#### SEABORN\n",
    "\n",
    "Seaborn is an amazing visualization library for statistical graphics plotting in Python. It provides beautiful default styles and color palettes to make statistical plots more attractive. It is built on the top of matplotlib library and also closely integrated to the data structures from pandas.\n",
    "Seaborn aims to make visualization the central part of exploring and understanding data. It provides dataset-oriented APIs, so that we can switch between different visual representations for same variables for better understanding of dataset.\n",
    "\n",
    "\n",
    "#### SCIKIT-LEARN\n",
    "Scikit-learn (Sklearn) is the most useful and robust library for machine learning in Python. It provides a selection of efficient tools for machine learning and statistical modeling including classification, regression, clustering and dimensionality reduction via a consistence interface in Python. This library, which is largely written in Python, is built upon NumPy, SciPy and Matplotlib.\n",
    "\n",
    "\n",
    "#### PICKLE\n",
    "\n",
    "Pickling” is the process whereby a Python object hierarchy is converted into a byte stream, and “unpickling” is the inverse operation, whereby a byte stream (from a binary file or bytes-like object) is converted back into an object hierarchy.\n"
   ]
  },
  {
   "cell_type": "markdown",
   "id": "c192d374",
   "metadata": {},
   "source": [
    "## Feature Definition:\n",
    "\n",
    "#### The datasets consist of several independent variables include:\n",
    "\n",
    "1.Car_Name : This column represents the name of the car.\n",
    "\n",
    "2.Year : This column represents the year in which the car was bought.\n",
    "\n",
    "3.Selling_Price : This column represents the price the owner wants to sell the car at.\n",
    "\n",
    "4.Present_Price : This is the present price of the car.\n",
    "\n",
    "5.Kms_Driven : This is the distance completed by the car in km.\n",
    "\n",
    "6.Fuel_Type : Fuel type of car i.e Diesel,Petrol,CNG\n",
    "\n",
    "7.Seller_Type : Defines whether the seller is a dealer or an individual.\n",
    "\n",
    "8.Transmission : Defines whether the car is manual or automatic.\n",
    "\n",
    "9.Owner : Defines the number of owners the car has previously had"
   ]
  },
  {
   "cell_type": "code",
   "execution_count": null,
   "id": "8cd5199a",
   "metadata": {},
   "outputs": [],
   "source": []
  },
  {
   "cell_type": "code",
   "execution_count": 2,
   "id": "88771b35",
   "metadata": {},
   "outputs": [],
   "source": [
    "import pandas as pd"
   ]
  },
  {
   "cell_type": "code",
   "execution_count": 3,
   "id": "fe5fef3e",
   "metadata": {},
   "outputs": [],
   "source": [
    "df=pd.read_csv('car data.csv')"
   ]
  },
  {
   "cell_type": "code",
   "execution_count": 4,
   "id": "e4552f3a",
   "metadata": {},
   "outputs": [
    {
     "data": {
      "text/html": [
       "<div>\n",
       "<style scoped>\n",
       "    .dataframe tbody tr th:only-of-type {\n",
       "        vertical-align: middle;\n",
       "    }\n",
       "\n",
       "    .dataframe tbody tr th {\n",
       "        vertical-align: top;\n",
       "    }\n",
       "\n",
       "    .dataframe thead th {\n",
       "        text-align: right;\n",
       "    }\n",
       "</style>\n",
       "<table border=\"1\" class=\"dataframe\">\n",
       "  <thead>\n",
       "    <tr style=\"text-align: right;\">\n",
       "      <th></th>\n",
       "      <th>Car_Name</th>\n",
       "      <th>Year</th>\n",
       "      <th>Selling_Price</th>\n",
       "      <th>Present_Price</th>\n",
       "      <th>Kms_Driven</th>\n",
       "      <th>Fuel_Type</th>\n",
       "      <th>Seller_Type</th>\n",
       "      <th>Transmission</th>\n",
       "      <th>Owner</th>\n",
       "    </tr>\n",
       "  </thead>\n",
       "  <tbody>\n",
       "    <tr>\n",
       "      <th>0</th>\n",
       "      <td>ritz</td>\n",
       "      <td>2014</td>\n",
       "      <td>3.35</td>\n",
       "      <td>5.59</td>\n",
       "      <td>27000</td>\n",
       "      <td>Petrol</td>\n",
       "      <td>Dealer</td>\n",
       "      <td>Manual</td>\n",
       "      <td>0</td>\n",
       "    </tr>\n",
       "    <tr>\n",
       "      <th>1</th>\n",
       "      <td>sx4</td>\n",
       "      <td>2013</td>\n",
       "      <td>4.75</td>\n",
       "      <td>9.54</td>\n",
       "      <td>43000</td>\n",
       "      <td>Diesel</td>\n",
       "      <td>Dealer</td>\n",
       "      <td>Manual</td>\n",
       "      <td>0</td>\n",
       "    </tr>\n",
       "    <tr>\n",
       "      <th>2</th>\n",
       "      <td>ciaz</td>\n",
       "      <td>2017</td>\n",
       "      <td>7.25</td>\n",
       "      <td>9.85</td>\n",
       "      <td>6900</td>\n",
       "      <td>Petrol</td>\n",
       "      <td>Dealer</td>\n",
       "      <td>Manual</td>\n",
       "      <td>0</td>\n",
       "    </tr>\n",
       "    <tr>\n",
       "      <th>3</th>\n",
       "      <td>wagon r</td>\n",
       "      <td>2011</td>\n",
       "      <td>2.85</td>\n",
       "      <td>4.15</td>\n",
       "      <td>5200</td>\n",
       "      <td>Petrol</td>\n",
       "      <td>Dealer</td>\n",
       "      <td>Manual</td>\n",
       "      <td>0</td>\n",
       "    </tr>\n",
       "    <tr>\n",
       "      <th>4</th>\n",
       "      <td>swift</td>\n",
       "      <td>2014</td>\n",
       "      <td>4.60</td>\n",
       "      <td>6.87</td>\n",
       "      <td>42450</td>\n",
       "      <td>Diesel</td>\n",
       "      <td>Dealer</td>\n",
       "      <td>Manual</td>\n",
       "      <td>0</td>\n",
       "    </tr>\n",
       "  </tbody>\n",
       "</table>\n",
       "</div>"
      ],
      "text/plain": [
       "  Car_Name  Year  Selling_Price  Present_Price  Kms_Driven Fuel_Type  \\\n",
       "0     ritz  2014           3.35           5.59       27000    Petrol   \n",
       "1      sx4  2013           4.75           9.54       43000    Diesel   \n",
       "2     ciaz  2017           7.25           9.85        6900    Petrol   \n",
       "3  wagon r  2011           2.85           4.15        5200    Petrol   \n",
       "4    swift  2014           4.60           6.87       42450    Diesel   \n",
       "\n",
       "  Seller_Type Transmission  Owner  \n",
       "0      Dealer       Manual      0  \n",
       "1      Dealer       Manual      0  \n",
       "2      Dealer       Manual      0  \n",
       "3      Dealer       Manual      0  \n",
       "4      Dealer       Manual      0  "
      ]
     },
     "execution_count": 4,
     "metadata": {},
     "output_type": "execute_result"
    }
   ],
   "source": [
    "df.head()"
   ]
  },
  {
   "cell_type": "markdown",
   "id": "c89ec2df",
   "metadata": {},
   "source": [
    "### Checking Null Values"
   ]
  },
  {
   "cell_type": "code",
   "execution_count": 5,
   "id": "8fe73606",
   "metadata": {},
   "outputs": [
    {
     "data": {
      "text/plain": [
       "Car_Name         0\n",
       "Year             0\n",
       "Selling_Price    0\n",
       "Present_Price    0\n",
       "Kms_Driven       0\n",
       "Fuel_Type        0\n",
       "Seller_Type      0\n",
       "Transmission     0\n",
       "Owner            0\n",
       "dtype: int64"
      ]
     },
     "execution_count": 5,
     "metadata": {},
     "output_type": "execute_result"
    }
   ],
   "source": [
    "df.isnull().sum()"
   ]
  },
  {
   "cell_type": "markdown",
   "id": "3f9510ac",
   "metadata": {},
   "source": [
    "#### As it shows there is no null value in our dataset"
   ]
  },
  {
   "cell_type": "code",
   "execution_count": null,
   "id": "e3d5275b",
   "metadata": {},
   "outputs": [],
   "source": []
  },
  {
   "cell_type": "code",
   "execution_count": null,
   "id": "33145868",
   "metadata": {},
   "outputs": [],
   "source": []
  },
  {
   "cell_type": "code",
   "execution_count": null,
   "id": "7ec05645",
   "metadata": {},
   "outputs": [],
   "source": []
  },
  {
   "cell_type": "code",
   "execution_count": null,
   "id": "4a81e0e4",
   "metadata": {},
   "outputs": [],
   "source": []
  },
  {
   "cell_type": "code",
   "execution_count": null,
   "id": "582a20f2",
   "metadata": {},
   "outputs": [],
   "source": []
  },
  {
   "cell_type": "code",
   "execution_count": null,
   "id": "8cc74557",
   "metadata": {},
   "outputs": [],
   "source": []
  },
  {
   "cell_type": "code",
   "execution_count": null,
   "id": "7a6de90c",
   "metadata": {},
   "outputs": [],
   "source": []
  },
  {
   "cell_type": "code",
   "execution_count": null,
   "id": "710b7509",
   "metadata": {},
   "outputs": [],
   "source": []
  },
  {
   "cell_type": "code",
   "execution_count": null,
   "id": "eaa8e5e9",
   "metadata": {},
   "outputs": [],
   "source": []
  },
  {
   "cell_type": "code",
   "execution_count": null,
   "id": "1c3397ef",
   "metadata": {},
   "outputs": [],
   "source": []
  },
  {
   "cell_type": "code",
   "execution_count": null,
   "id": "3cf0342e",
   "metadata": {},
   "outputs": [],
   "source": []
  },
  {
   "cell_type": "code",
   "execution_count": null,
   "id": "bffe18b4",
   "metadata": {},
   "outputs": [],
   "source": []
  },
  {
   "cell_type": "code",
   "execution_count": null,
   "id": "341d670e",
   "metadata": {},
   "outputs": [],
   "source": []
  },
  {
   "cell_type": "code",
   "execution_count": null,
   "id": "0e71fe08",
   "metadata": {},
   "outputs": [],
   "source": []
  },
  {
   "cell_type": "code",
   "execution_count": null,
   "id": "8bf2279c",
   "metadata": {},
   "outputs": [],
   "source": []
  }
 ],
 "metadata": {
  "kernelspec": {
   "display_name": "Python 3 (ipykernel)",
   "language": "python",
   "name": "python3"
  },
  "language_info": {
   "codemirror_mode": {
    "name": "ipython",
    "version": 3
   },
   "file_extension": ".py",
   "mimetype": "text/x-python",
   "name": "python",
   "nbconvert_exporter": "python",
   "pygments_lexer": "ipython3",
   "version": "3.9.12"
  }
 },
 "nbformat": 4,
 "nbformat_minor": 5
}
